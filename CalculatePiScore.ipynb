{
 "cells": [
  {
   "cell_type": "code",
   "execution_count": 1,
   "id": "abd11170-eb07-4242-929d-632a543c028a",
   "metadata": {},
   "outputs": [],
   "source": [
    "import numpy as np\n",
    "import pandas as pd\n",
    "import errno\n",
    "import os\n",
    "from scipy.special import lambertw as W_L\n",
    "from tqdm import tqdm\n",
    "import matplotlib.pyplot as plt"
   ]
  },
  {
   "cell_type": "code",
   "execution_count": 60,
   "id": "8c60c99c-8c05-4b99-b4ee-05f40cdf5edf",
   "metadata": {},
   "outputs": [],
   "source": [
    "kB = 0.001987204259\n",
    "\n",
    "### TODO: readin input files for anchor strength and position side Nbulk Pbulk bind via input files (subtract anchor strengths and non-zero ones need to be calculated)\n",
    "class ConvFE_contrib():\n",
    "    def __init__(self, sysAfile, sysBfile, k, ref_cv, colA, colB, contrib='FE_AB', pi_crit=0.5, T=300):\n",
    "        self.sysAfile = sysAfile\n",
    "        self.sysBfile = sysBfile\n",
    "        self.k = k\n",
    "        self.ref_cv = ref_cv\n",
    "        self.colA = colA\n",
    "        self.colB = colB\n",
    "        self.contrib = contrib\n",
    "        self.pi_crit = pi_crit\n",
    "        self.T = T\n",
    "        self.beta = 1/(kB * T)\n",
    "        self.read_sampling_data()\n",
    "    \n",
    "    def read_sampling_data(self):\n",
    "        print('The input data is read from {} and {}. This can take a few seconds...'.format(self.sysAfile, self.sysBfile))\n",
    "        A_samples = np.loadtxt(self.sysAfile, usecols=self.colA)\n",
    "        B_samples = np.loadtxt(self.sysBfile, usecols=self.colB)\n",
    "        print('Done!!\\n')\n",
    "            \n",
    "        setattr(self, 'A_samples', A_samples)\n",
    "        setattr(self, 'B_samples', B_samples)\n",
    "    \n",
    "    \n",
    "    def zwanzig_formula(self,b=None,e=None):\n",
    "        '''Convention: A is the 'unperturbed' system and B is the 'perturbed' system. Only harmonic restraint Potentials are allowed as a method of perturbation'''\n",
    "        \n",
    "        W_AB =  self.k * (self.ref_cv - self.A_samples[b:e])**2\n",
    "        W_BA = -self.k * (self.ref_cv - self.B_samples[b:e])**2\n",
    "        \n",
    "        avgBoltzF_AB = np.mean(np.exp( -self.beta*W_AB ))\n",
    "        avgBoltzF_BA = np.mean(np.exp( -self.beta*W_BA ))\n",
    "        \n",
    "        FE_AB = -kB*self.T*np.log( avgBoltzF_AB )\n",
    "        FE_BA = -kB*self.T*np.log( avgBoltzF_BA )\n",
    "\n",
    "        return FE_AB,FE_BA,W_AB,W_BA\n",
    "    \n",
    "    def calc_PiScore(self,b=None,e=None):\n",
    "        FE_AB, FE_BA, W_AB, W_BA = self.zwanzig_formula(b,e)\n",
    "        \n",
    "        avgW_AB = np.sum(W_AB) / W_AB.size\n",
    "        avgW_BA = np.sum(W_BA) / W_BA.size\n",
    "        \n",
    "        s_A = self.beta * (avgW_AB - FE_BA)\n",
    "        s_B = self.beta * (FE_AB - avgW_BA)\n",
    "        \n",
    "        Pi_AB = np.sqrt((s_A/s_B) * W_L(1/(2*np.pi) * (W_AB.size-1)**2)) - np.sqrt(2*s_A)\n",
    "        Pi_BA = np.sqrt((s_B/s_A) * W_L(1/(2*np.pi) * (W_BA.size-1)**2)) - np.sqrt(2*s_B)\n",
    "        \n",
    "        return (Pi_AB,Pi_BA)        "
   ]
  },
  {
   "cell_type": "code",
   "execution_count": 62,
   "id": "1ca27098-6e74-4c40-b117-f7b8c271893a",
   "metadata": {},
   "outputs": [
    {
     "name": "stdout",
     "output_type": "stream",
     "text": [
      "The input data is read from ../_sim/01_TIP3P_med_site/_output/pmd_.txt and ../_sim/01_TIP3P_med_site/_output/pmd_p.txt. This can take a few seconds...\n",
      "Done!!\n",
      "\n",
      "0.08428412230106543 -0.038877227827697834\n"
     ]
    }
   ],
   "source": [
    "pmd_ = '../_sim/01_TIP3P_med_site/_output/pmd_.txt'\n",
    "pmd_p = '../_sim/01_TIP3P_med_site/_output/pmd_p.txt'\n",
    "_p = ConvFE_contrib(pmd_,pmd_p, 10.0/169/2, 1.0, 1, 1)\n",
    "FE_AB, FE_BA, _,_ = _p.zwanzig_formula()\n",
    "print(FE_AB,FE_BA)"
   ]
  },
  {
   "cell_type": "code",
   "execution_count": 63,
   "id": "45b4f1f4-1c3b-4cff-833e-d859c2ed610e",
   "metadata": {},
   "outputs": [
    {
     "name": "stdout",
     "output_type": "stream",
     "text": [
      "The input data is read from ../_sim/01_TIP3P_med_site/_output/pmd_p.txt and ../_sim/01_TIP3P_med_site/_output/pmd_pn.txt. This can take a few seconds...\n",
      "Done!!\n",
      "\n",
      "0.010407954078130992 -0.002904773257352237\n"
     ]
    }
   ],
   "source": [
    "pmd_ = '../_sim/01_TIP3P_med_site/_output/pmd_p.txt'\n",
    "pmd_p = '../_sim/01_TIP3P_med_site/_output/pmd_pn.txt'\n",
    "_p = ConvFE_contrib(pmd_,pmd_p, 10.0/320/2, 1.0, 2, 2)\n",
    "FE_AB, FE_BA, _,_ = _p.zwanzig_formula()\n",
    "print(FE_AB,FE_BA)"
   ]
  },
  {
   "cell_type": "code",
   "execution_count": 64,
   "id": "e22eb80f-1489-4e5d-b485-a7c9201306c5",
   "metadata": {},
   "outputs": [
    {
     "name": "stdout",
     "output_type": "stream",
     "text": [
      "The input data is read from ../_sim/01_TIP3P_med_site/_output/pmd_pn.txt and ../_sim/01_TIP3P_med_site/_output/pmd_pno.txt. This can take a few seconds...\n",
      "Done!!\n",
      "\n",
      "1.0434539839125396 -0.17726614478392375\n"
     ]
    }
   ],
   "source": [
    "pmd_ = '../_sim/01_TIP3P_med_site/_output/pmd_pn.txt'\n",
    "pmd_p = '../_sim/01_TIP3P_med_site/_output/pmd_pno.txt'\n",
    "_p = ConvFE_contrib(pmd_,pmd_p, 100.0/2, 2.7, 3, 3)\n",
    "FE_AB, FE_BA, _,_ = _p.zwanzig_formula()\n",
    "print(FE_AB,FE_BA)"
   ]
  },
  {
   "cell_type": "code",
   "execution_count": 65,
   "id": "b4a69ea6-e8a6-4954-a82c-efb5d177b960",
   "metadata": {},
   "outputs": [
    {
     "name": "stdout",
     "output_type": "stream",
     "text": [
      "The input data is read from ../_sim/01_TIP3P_med_site/_output/pmd_pno.txt and ../_sim/01_TIP3P_med_site/_output/pmd_pnoa.txt. This can take a few seconds...\n",
      "Done!!\n",
      "\n",
      "1.3602789773565898 -2.9180197769187677\n"
     ]
    }
   ],
   "source": [
    "pmd_ = '../_sim/01_TIP3P_med_site/_output/pmd_pno.txt'\n",
    "pmd_p = '../_sim/01_TIP3P_med_site/_output/pmd_pnoa.txt'\n",
    "_p = ConvFE_contrib(pmd_,pmd_p, 100.0/2, 1.27, 6, 6)\n",
    "FE_AB, FE_BA, _,_ = _p.zwanzig_formula()\n",
    "print(FE_AB,FE_BA)"
   ]
  },
  {
   "cell_type": "code",
   "execution_count": 66,
   "id": "4ee1a7d9-098c-4c86-975a-af472f51311e",
   "metadata": {},
   "outputs": [
    {
     "name": "stdout",
     "output_type": "stream",
     "text": [
      "0.8312867693809728\n"
     ]
    }
   ],
   "source": [
    "kbT = 300*0.001987204259\n",
    "\n",
    "df = pd.read_csv('../_sim/01_TIP3P_med_site/_output/pmd_.txt', comment='#', header=None, index_col=0, delim_whitespace=True)\n",
    "theta, phi = df.iloc[:,0], df.iloc[:,1]\n",
    "\n",
    "deltaETheta = 0.5 *10/169* (theta- 1.0)**2\n",
    "deltaEPhi = 0.5 *10/169* (phi- 1.0)**2\n",
    "\n",
    "observable\n",
    "observable = np.exp(-pd.concat([deltaEPhi, deltaETheta], axis = 1).sum(axis =1)/kbT)\n",
    "#observable = np.exp(-deltaETheta/kbT)\n",
    "\n",
    "ensemble_avg = observable.mean()\n",
    "print(ensemble_avg)"
   ]
  },
  {
   "cell_type": "code",
   "execution_count": 34,
   "id": "fd535896-45c5-4f84-ad98-204178375c88",
   "metadata": {},
   "outputs": [
    {
     "data": {
      "image/png": "[encoded data removed]",
      "text/plain": [
       "<Figure size 640x480 with 1 Axes>"
      ]
     },
     "metadata": {},
     "output_type": "display_data"
    },
    {
     "data": {
      "text/plain": [
       "<matplotlib.collections.PathCollection at 0x7f2edd1006d0>"
      ]
     },
     "execution_count": 34,
     "metadata": {},
     "output_type": "execute_result"
    },
    {
     "data": {
      "image/png": "[encoded data removed]",
      "text/plain": [
       "<Figure size 640x480 with 1 Axes>"
      ]
     },
     "metadata": {},
     "output_type": "display_data"
    }
   ],
   "source": [
    "plt.plot(f[:,0])\n",
    "plt.plot(f[:,1])\n",
    "plt.show()\n",
    "plt.scatter(p[:,1],f[:,1]-f[-1,1])\n",
    "plt.scatter(p[:,0],f[:,0]-f[-1,0])"
   ]
  },
  {
   "cell_type": "code",
   "execution_count": 198,
   "id": "48d6937c-993b-40e1-8b19-f8b82ab3fa42",
   "metadata": {},
   "outputs": [
    {
     "data": {
      "text/plain": [
       "(0.1671042934184375, -0.07789497250096723)"
      ]
     },
     "execution_count": 198,
     "metadata": {},
     "output_type": "execute_result"
    }
   ],
   "source": [
    "test1.zwanzig_formula()[0:2]"
   ]
  },
  {
   "cell_type": "code",
   "execution_count": 197,
   "id": "d10306ad-3d2f-456f-add0-3d9a852fbae4",
   "metadata": {},
   "outputs": [
    {
     "data": {
      "text/plain": [
       "((3.8809600683412144+0j), (3.8241173671723714+0j))"
      ]
     },
     "execution_count": 197,
     "metadata": {},
     "output_type": "execute_result"
    }
   ],
   "source": [
    "test1.calc_PiScore()"
   ]
  },
  {
   "cell_type": "code",
   "execution_count": 143,
   "id": "1758a724-7bcf-4fc2-a96b-7869eb275275",
   "metadata": {},
   "outputs": [
    {
     "name": "stdout",
     "output_type": "stream",
     "text": [
      "(0.1671042934184375, -0.07789497250096723)\n",
      "(0.1671042934184375, -0.07789497250096723)\n",
      "(0.1671042934184375, -0.07789497250096723)\n",
      "(0.1671042934184375, -0.07789497250096723)\n"
     ]
    }
   ],
   "source": [
    "for e in [1000, 10000, 100000, 500000]:\n",
    "    print(test1.zwanzig_formula()[:2])"
   ]
  },
  {
   "cell_type": "code",
   "execution_count": 145,
   "id": "1becad03-faf5-452d-bbf0-ac8262ffb922",
   "metadata": {},
   "outputs": [
    {
     "data": {
      "text/plain": [
       "(array([0.08691451, 0.08705308, 0.09064556, ..., 0.23591312, 0.23741738,\n",
       "        0.22633942]),\n",
       " array([-0.08691451, -0.0896888 , -0.09085899, ..., -0.04841459,\n",
       "        -0.04996493, -0.04388209]))"
      ]
     },
     "execution_count": 145,
     "metadata": {},
     "output_type": "execute_result"
    }
   ],
   "source": [
    "W_AB,W_BA"
   ]
  },
  {
   "cell_type": "code",
   "execution_count": 90,
   "id": "be9bd4d8-9aa5-4dec-9165-a1174e5498cc",
   "metadata": {},
   "outputs": [
    {
     "name": "stdout",
     "output_type": "stream",
     "text": [
      "CPU times: user 1.93 s, sys: 139 ms, total: 2.07 s\n",
      "Wall time: 11.3 s\n"
     ]
    },
    {
     "data": {
      "text/plain": [
       "array([[ 1.08000000e+03,  2.21196334e+00,  2.28194113e+00, ...,\n",
       "        -3.03738460e+00,  1.29345359e+00, -3.06600868e+00],\n",
       "       [ 1.08020000e+03,  2.23115421e+00,  2.24770924e+00, ...,\n",
       "        -3.03094257e+00,  1.28753930e+00, -3.06668315e+00],\n",
       "       [ 1.08040000e+03,  2.23915977e+00,  2.28231326e+00, ...,\n",
       "        -3.06118258e+00,  1.30578232e+00, -3.08232673e+00],\n",
       "       ...,\n",
       "       [ 2.01079400e+05,  1.90454768e+00,  1.38624116e+00, ...,\n",
       "        -2.92278940e+00,  1.51858946e+00, -2.92192001e+00],\n",
       "       [ 2.01079600e+05,  1.91891638e+00,  1.34866333e+00, ...,\n",
       "        -2.94542959e+00,  1.51767065e+00, -2.92572502e+00],\n",
       "       [ 2.01079800e+05,  1.86116630e+00,  1.36441222e+00, ...,\n",
       "        -2.97565686e+00,  1.53004746e+00, -2.92782659e+00]])"
      ]
     },
     "execution_count": 90,
     "metadata": {},
     "output_type": "execute_result"
    }
   ],
   "source": [
    "%%time \n",
    "np.loadtxt()"
   ]
  },
  {
   "cell_type": "code",
   "execution_count": 94,
   "id": "98eb6cad-bd83-4a66-9bfd-ba0a74c62a69",
   "metadata": {},
   "outputs": [
    {
     "name": "stdout",
     "output_type": "stream",
     "text": [
      "CPU times: user 1.82 s, sys: 267 ms, total: 2.09 s\n",
      "Wall time: 11.3 s\n"
     ]
    },
    {
     "data": {
      "text/plain": [
       "array([2.21196334, 2.21292911, 2.23770348, ..., 2.99673024, 3.00308604,\n",
       "       2.95579552])"
      ]
     },
     "execution_count": 94,
     "metadata": {},
     "output_type": "execute_result"
    }
   ],
   "source": [
    "%%time \n"
   ]
  },
  {
   "cell_type": "code",
   "execution_count": 87,
   "id": "06887dd7-ede8-4082-92a7-5c547d3dc968",
   "metadata": {},
   "outputs": [
    {
     "name": "stdout",
     "output_type": "stream",
     "text": [
      "CPU times: user 4.49 s, sys: 292 ms, total: 4.78 s\n",
      "Wall time: 23.8 s\n"
     ]
    },
    {
     "data": {
      "text/plain": [
       "<BarContainer object of 500 artists>"
      ]
     },
     "execution_count": 87,
     "metadata": {},
     "output_type": "execute_result"
    },
    {
     "data": {
      "image/png": "[encoded data removed]",
      "text/plain": [
       "<Figure size 640x480 with 1 Axes>"
      ]
     },
     "metadata": {},
     "output_type": "display_data"
    }
   ],
   "source": [
    "%%time\n",
    "plt.hist(np.loadtxt('../_sim/01_TIP3P_med_site/_output/pmd_.txt', usecols=1), bins=500,alpha=0.5)[2]\n",
    "plt.hist(np.loadtxt('../_sim/01_TIP3P_med_site/_output/pmd_p.txt', usecols=1), bins=500,alpha=0.5)[2]"
   ]
  },
  {
   "cell_type": "code",
   "execution_count": 83,
   "id": "6b4f71cd-b7d7-45a9-a8d4-79863f3e9a9e",
   "metadata": {},
   "outputs": [
    {
     "name": "stdout",
     "output_type": "stream",
     "text": [
      "CPU times: user 6.89 s, sys: 521 ms, total: 7.41 s\n",
      "Wall time: 24.4 s\n"
     ]
    },
    {
     "data": {
      "text/plain": [
       "<BarContainer object of 500 artists>"
      ]
     },
     "execution_count": 83,
     "metadata": {},
     "output_type": "execute_result"
    },
    {
     "data": {
      "image/png": "[encoded data removed]",
      "text/plain": [
       "<Figure size 640x480 with 1 Axes>"
      ]
     },
     "metadata": {},
     "output_type": "display_data"
    }
   ],
   "source": [
    "%%time\n",
    "plt.hist(pd.read_csv('../_sim/01_TIP3P_med_site/_output/pmd_.txt', comment='#', delim_whitespace=True, header=None, index_col=0).iloc[:,0].values, bins=500,alpha=0.5)[2]\n",
    "plt.hist(pd.read_csv('../_sim/01_TIP3P_med_site/_output/pmd_p.txt', comment='#', delim_whitespace=True, header=None, index_col=0).iloc[:,0].values, bins=500,alpha=0.5)[2]"
   ]
  },
  {
   "cell_type": "code",
   "execution_count": 53,
   "id": "a6a3ea0a-efca-4589-8b4e-f1cc79583eed",
   "metadata": {},
   "outputs": [
    {
     "data": {
      "text/plain": [
       "array([2.21196334, 2.21292911])"
      ]
     },
     "execution_count": 53,
     "metadata": {},
     "output_type": "execute_result"
    }
   ],
   "source": [
    "df.protein.values[0:2]"
   ]
  },
  {
   "cell_type": "code",
   "execution_count": 12,
   "id": "c2632606-4ea7-47ba-8cbc-27b996050b24",
   "metadata": {},
   "outputs": [],
   "source": [
    "columns=['protein', 'nucleic', 'Theta','Phi','Psi','theta','phi']\n",
    "df = pd.read_csv('../_sim/01_TIP3P_med_site/_output/pmd_.txt', comment='#', delim_whitespace=True, header=None, index_col=0)\n",
    "\n",
    "df.columns=columns"
   ]
  },
  {
   "cell_type": "code",
   "execution_count": 60,
   "id": "904f2ec2-d5f5-42d6-a001-142e0ca331ff",
   "metadata": {},
   "outputs": [
    {
     "data": {
      "text/plain": [
       "<BarContainer object of 500 artists>"
      ]
     },
     "execution_count": 60,
     "metadata": {},
     "output_type": "execute_result"
    },
    {
     "data": {
      "image/png": "[encoded data removed]",
      "text/plain": [
       "<Figure size 640x480 with 1 Axes>"
      ]
     },
     "metadata": {},
     "output_type": "display_data"
    }
   ],
   "source": [
    "plt.hist(df.protein.values, bins=500)[2]"
   ]
  },
  {
   "cell_type": "code",
   "execution_count": 16,
   "id": "afaab3a7-b538-46ad-8147-5144745740f6",
   "metadata": {},
   "outputs": [],
   "source": [
    "ref = 1.0\n",
    "k = 10.0"
   ]
  },
  {
   "cell_type": "code",
   "execution_count": 37,
   "id": "2ea215fe-fdaf-44ba-9357-c01f387f2b66",
   "metadata": {},
   "outputs": [],
   "source": []
  },
  {
   "cell_type": "code",
   "execution_count": 39,
   "id": "1956ce4b-0b1d-41f7-b239-c85db048d293",
   "metadata": {},
   "outputs": [
    {
     "name": "stdout",
     "output_type": "stream",
     "text": [
      "[0.08691451 0.08705308 0.09064556 ... 0.23591312 0.23741738 0.22633942]\n"
     ]
    },
    {
     "data": {
      "text/plain": [
       "0.1671042934184375"
      ]
     },
     "execution_count": 39,
     "metadata": {},
     "output_type": "execute_result"
    }
   ],
   "source": [
    "zwanzig_formula(df.protein.values,T=300,k=10/169)"
   ]
  }
 ],
 "metadata": {
  "kernelspec": {
   "display_name": "Python (MDANAL)",
   "language": "python",
   "name": "mdanal"
  },
  "language_info": {
   "codemirror_mode": {
    "name": "ipython",
    "version": 3
   },
   "file_extension": ".py",
   "mimetype": "text/x-python",
   "name": "python",
   "nbconvert_exporter": "python",
   "pygments_lexer": "ipython3",
   "version": "3.10.10"
  }
 },
 "nbformat": 4,
 "nbformat_minor": 5
}
