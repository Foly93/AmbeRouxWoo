{
 "cells": [
  {
   "cell_type": "code",
   "execution_count": 59,
   "id": "b3734932-1377-4ed9-91a8-08de4e142a45",
   "metadata": {},
   "outputs": [],
   "source": [
    "import abc\n",
    "from abc import ABC, abstractmethod\n",
    "from dataclasses import dataclass, field\n",
    "import numpy as np\n",
    "from glob import glob\n",
    "from natsort import natsorted"
   ]
  },
  {
   "cell_type": "code",
   "execution_count": 78,
   "id": "85525d47-c698-461c-a902-49e736465b78",
   "metadata": {},
   "outputs": [],
   "source": [
    "@dataclass\n",
    "class FE_contrib_init:\n",
    "    kB_kcalmolK: float = 0.001987204259\n",
    "    TemperatureK: np.ndarray = np.array(300)\n",
    "    betaFactor: np.ndarray = 1 / (kB_kcalmolK*TemperatureK)\n",
    "    \n",
    "    def getCVs(self, file_parser: FileParser) -> None:\n",
    "        file_parser.ParseCollectiveVariables\n",
    "    "
   ]
  },
  {
   "cell_type": "code",
   "execution_count": 81,
   "id": "7e3d13f6-490a-4c11-807f-f3565834b5ba",
   "metadata": {},
   "outputs": [
    {
     "name": "stdout",
     "output_type": "stream",
     "text": [
      "<class '__main__.PMD_FileParser'>\n"
     ]
    }
   ],
   "source": [
    "\n",
    "@dataclass\n",
    "class FileParser(ABC):\n",
    "    files: list[str] = field(init=False)\n",
    "    Samplesizes: np.ndarray = field(init=False)\n",
    "    OriginH_CollectiveVariables: list[np.ndarray] = field(init=False)\n",
    "    \n",
    "    @abstractmethod\n",
    "    def get_anchor_and_forceConstant(self, anchorRegex: str, forceConstantRegex: str) -> np.ndarray:\n",
    "        '''abstract method to obtain force constant and anchor information form simulation output files'''\n",
    "    \n",
    "    @abstractmethod\n",
    "    def ParseCollectiveVariables(self, files) -> list[np.ndarray]:\n",
    "        '''abstract method to obtain raw data from simulation output''' \n",
    "    \n",
    "    def calculateSamplesize(self) -> list[int]:\n",
    "        pass\n",
    "    \n",
    "\n",
    "class PMD_FileParser(FileParser):\n",
    "    pass\n",
    "    def get_anchor_and_forceConstant(self, anchorRegex: str, forceConstantRegex: str) -> np.ndarray:\n",
    "        print('gettinganchor and constant')\n",
    "    \n",
    "    def ParseCollectiveVariables(self, files) -> list[np.ndarray]:\n",
    "        print('getting collective variables from simulation data') \n",
    "    \n",
    "def main():\n",
    "    files = natsorted(glob('../_sim/13*/_output/pmd_p*[!a].txt'))\n",
    "    dG_oS_init = FE_contrib_init()\n",
    "    dG_oS_init.getCVs(PMD_FileParser)\n",
    "    # dG_oS_dataloader.decorrelate(decorrelationScheme())\n",
    "    # dG_oS_Energy = FE_contribution('PMF-like')\n",
    "    \n",
    "if __name__ == '__main__':\n",
    "    main()"
   ]
  }
 ],
 "metadata": {
  "kernelspec": {
   "display_name": "Python [conda env:wooroux]",
   "language": "python",
   "name": "conda-env-wooroux-py"
  },
  "language_info": {
   "codemirror_mode": {
    "name": "ipython",
    "version": 3
   },
   "file_extension": ".py",
   "mimetype": "text/x-python",
   "name": "python",
   "nbconvert_exporter": "python",
   "pygments_lexer": "ipython3",
   "version": "3.9.16"
  }
 },
 "nbformat": 4,
 "nbformat_minor": 5
}
